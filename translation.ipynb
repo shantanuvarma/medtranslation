{
 "cells": [
  {
   "cell_type": "code",
   "execution_count": 23,
   "id": "31ade071",
   "metadata": {},
   "outputs": [
    {
     "name": "stdout",
     "output_type": "stream",
     "text": [
      "{'translatedText': 'मेरा नाम प्रतीची है', 'detectedSourceLanguage': 'en', 'input': 'My name is pratechee'}\n",
      "मेरा नाम प्रतीची है\n"
     ]
    }
   ],
   "source": [
    "import os\n",
    "from google.cloud import translate_v2\n",
    "\n",
    "os.environ['GOOGLE_APPLICATION_CREDENTIALS']=r\"E:\\Shantanu\\3 Code\\Translation\\modular-rush-337502-ee4b8759fcb8.json\"\n",
    "\n",
    "client = translate.Client()\n",
    "\n",
    "text = 'My name is pratechee'\n",
    "target = 'hi'\n",
    "\n",
    "output = client.translate(text, target_language=target)\n",
    "output_text = list(output.values())[0]\n",
    "print(output)\n",
    "print(output_text)\n",
    "\n",
    "\n",
    "\n",
    "\n",
    "\n"
   ]
  },
  {
   "cell_type": "code",
   "execution_count": null,
   "id": "961bd0fd",
   "metadata": {},
   "outputs": [],
   "source": [
    "result = translate_client.translate(\"Hello\", target_language='FR')\n",
    "project_ID = \"modular-rush-337502\"\n"
   ]
  },
  {
   "cell_type": "code",
   "execution_count": null,
   "id": "6fd212c4",
   "metadata": {},
   "outputs": [],
   "source": []
  },
  {
   "cell_type": "code",
   "execution_count": null,
   "id": "392a0cd9",
   "metadata": {},
   "outputs": [],
   "source": []
  }
 ],
 "metadata": {
  "kernelspec": {
   "display_name": "Python 3 (ipykernel)",
   "language": "python",
   "name": "python3"
  },
  "language_info": {
   "codemirror_mode": {
    "name": "ipython",
    "version": 3
   },
   "file_extension": ".py",
   "mimetype": "text/x-python",
   "name": "python",
   "nbconvert_exporter": "python",
   "pygments_lexer": "ipython3",
   "version": "3.7.9"
  }
 },
 "nbformat": 4,
 "nbformat_minor": 5
}
